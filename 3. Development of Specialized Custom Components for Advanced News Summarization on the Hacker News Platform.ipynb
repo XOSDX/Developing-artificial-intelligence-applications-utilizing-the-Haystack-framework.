{
 "cells": [
  {
   "cell_type": "markdown",
   "id": "b19fd9b5-d93d-42bf-ac5a-d1b6f563fe7c",
   "metadata": {},
   "source": [
    "## **Specialized Components for Optimized News Summarization**"
   ]
  },
  {
   "cell_type": "code",
   "execution_count": 1,
   "id": "7c69912f",
   "metadata": {
    "height": 132
   },
   "outputs": [],
   "source": [
    "import requests\n",
    "from typing import List\n",
    "from haystack.components.fetchers import LinkContentFetcher\n",
    "from haystack.components.converters import HTMLToDocument\n",
    "from haystack import Document, Pipeline, component\n",
    "from haystack.components.builders import PromptBuilder\n",
    "from haystack.components.generators.openai import OpenAIGenerator"
   ]
  },
  {
   "cell_type": "code",
   "execution_count": 2,
   "id": "75222381-4e42-438f-8e5e-d06aaf03f9d7",
   "metadata": {
    "height": 98
   },
   "outputs": [],
   "source": [
    "import warnings\n",
    "from helper import load_env\n",
    "\n",
    "warnings.filterwarnings('ignore')\n",
    "load_env()"
   ]
  },
  {
   "cell_type": "markdown",
   "id": "04ea46f0-c25b-4655-baaa-28dd351545f1",
   "metadata": {},
   "source": [
    "## Modified Component Needs\n",
    "\n",
    "#### Constructing a suitable component and execute it"
   ]
  },
  {
   "cell_type": "code",
   "execution_count": 4,
   "id": "aac45560-854f-49ff-a922-1ae66f814c20",
   "metadata": {
    "height": 167
   },
   "outputs": [
    {
     "data": {
      "text/plain": [
       "{'greeting': 'Hello Tuana'}"
      ]
     },
     "execution_count": 4,
     "metadata": {},
     "output_type": "execute_result"
    }
   ],
   "source": [
    "@component\n",
    "class Greeter:\n",
    "\n",
    "    @component.output_types(greeting=str)\n",
    "    def run(self, user_name: str):\n",
    "        return {\"greeting\": f\"Hello {user_name}\"}\n",
    "    \n",
    "greeter = Greeter()\n",
    "greeter.run(user_name=\"Tuana\")\n"
   ]
  },
  {
   "cell_type": "markdown",
   "id": "f5b68d01-aeab-4460-98ee-0537bbc23271",
   "metadata": {},
   "source": [
    "#### Adding the Component to a Pipeline"
   ]
  },
  {
   "cell_type": "code",
   "execution_count": null,
   "id": "92f65838-50ac-4634-af7a-d6874d75ce19",
   "metadata": {
    "height": 301
   },
   "outputs": [],
   "source": [
    "greeter = Greeter()\n",
    "template = \"\"\" You will be given the beginning of a dialogue. \n",
    "Create a short play script using this as the start of the play.\n",
    "Start of dialogue: {{ dialogue }}\n",
    "Full script: \n",
    "\"\"\"\n",
    "prompt = PromptBuilder(template=template)\n",
    "llm = OpenAIGenerator()\n",
    "\n",
    "dialogue_builder = Pipeline()\n",
    "dialogue_builder.add_component(\"greeter\", greeter)\n",
    "dialogue_builder.add_component(\"prompt\", prompt)\n",
    "dialogue_builder.add_component(\"llm\", llm)\n",
    "\n",
    "dialogue_builder.connect(\"greeter.greeting\", \"prompt.dialogue\")\n",
    "dialogue_builder.connect(\"prompt\", \"llm\")"
   ]
  },
  {
   "cell_type": "code",
   "execution_count": null,
   "id": "88ae3b13-f2a3-48fc-9c18-bd1654cc251e",
   "metadata": {
    "height": 30
   },
   "outputs": [],
   "source": [
    "dialogue_builder.show()"
   ]
  },
  {
   "cell_type": "code",
   "execution_count": null,
   "id": "e31ee703-6af6-4560-9e28-a057c06541d6",
   "metadata": {
    "height": 80
   },
   "outputs": [],
   "source": [
    "dialogue = dialogue_builder.run({\"greeter\": {\"user_name\": \"Tuana\"}})\n",
    "\n",
    "print(dialogue[\"llm\"][\"replies\"][0])"
   ]
  },
  {
   "cell_type": "markdown",
   "id": "62f3d9c4-3407-47d1-a5bf-0cb04abba62b",
   "metadata": {},
   "source": [
    "## Now making a Hacker Based News Summarizer as a part of mini project."
   ]
  },
  {
   "cell_type": "code",
   "execution_count": 7,
   "id": "602c88fa-ce22-46f9-9ae8-1bf49f2f6162",
   "metadata": {
    "height": 69
   },
   "outputs": [
    {
     "name": "stdout",
     "output_type": "stream",
     "text": [
      "{'by': 'louwrentius', 'descendants': 196, 'id': 41536088, 'kids': [41536897, 41538213, 41537401, 41536279, 41537789, 41536664, 41536716, 41536293, 41536120, 41538691, 41537920, 41536432, 41538014, 41537312, 41538029, 41536955, 41536603, 41537602, 41537291, 41536531, 41537500, 41536213, 41536702, 41538643, 41536695, 41537717, 41536217, 41536426, 41536768, 41536389, 41536750, 41536739, 41537894, 41536569, 41536477, 41536200, 41537366, 41537275, 41536771, 41538122, 41538123, 41538124, 41537148], 'score': 267, 'time': 1726269670, 'title': 'My 71 TiB ZFS NAS After 10 Years and Zero Drive Failures', 'type': 'story', 'url': 'https://louwrentius.com/my-71-tib-zfs-nas-after-10-years-and-zero-drive-failures.html'}\n"
     ]
    }
   ],
   "source": [
    "trending_list = requests.get(url=\"https://hacker-news.firebaseio.com/v0/topstories.json?print=pretty\")\n",
    "post = requests.get(url=f\"https://hacker-news.firebaseio.com/v0/item/{trending_list.json()[0]}.json?print=pretty\")\n",
    "print(post.json())"
   ]
  },
  {
   "cell_type": "code",
   "execution_count": 8,
   "id": "89207680",
   "metadata": {
    "height": 115
   },
   "outputs": [],
   "source": [
    "@component\n",
    "class HackernewsNewestFetcher:\n",
    "    @component.output_types(articles=List[Document])\n",
    "    def run(self, top_k: int):\n",
    "        articles = []\n",
    "        return {\"articles\": articles}"
   ]
  },
  {
   "cell_type": "code",
   "execution_count": 9,
   "id": "2c137b62-9b91-4273-872b-e0010d03ad4f",
   "metadata": {
    "height": 658
   },
   "outputs": [],
   "source": [
    "@component\n",
    "class HackernewsNewestFetcher:\n",
    "    def __init__(self):\n",
    "        fetcher = LinkContentFetcher()\n",
    "        converter = HTMLToDocument()\n",
    "\n",
    "        html_conversion_pipeline = Pipeline()\n",
    "        html_conversion_pipeline.add_component(\"fetcher\", fetcher)\n",
    "        html_conversion_pipeline.add_component(\"converter\", converter)\n",
    "\n",
    "        html_conversion_pipeline.connect(\"fetcher\", \"converter\")\n",
    "        self.html_pipeline = html_conversion_pipeline\n",
    "        \n",
    "    @component.output_types(articles=List[Document])\n",
    "    def run(self, top_k: int):\n",
    "        articles = []\n",
    "        trending_list = requests.get(\n",
    "            url=\"https://hacker-news.firebaseio.com/v0/topstories.json?print=pretty\"\n",
    "        )\n",
    "        for id in trending_list.json()[0:top_k]:\n",
    "            post = requests.get(\n",
    "                url=f\"https://hacker-news.firebaseio.com/v0/item/{id}.json?print=pretty\"\n",
    "            )\n",
    "            if \"url\" in post.json():\n",
    "                try:\n",
    "                    article = self.html_pipeline.run(\n",
    "                        {\"fetcher\": {\"urls\": [post.json()[\"url\"]]}}\n",
    "                    )\n",
    "                    articles.append(article[\"converter\"][\"documents\"][0])\n",
    "                except:\n",
    "                    print(f\"Can't download {post}, skipped\")\n",
    "            elif \"text\" in post.json():\n",
    "                try:\n",
    "                    articles.append(Document(content=post.json()[\"text\"], meta= {\"title\": post.json()[\"title\"]}))\n",
    "                except:\n",
    "                    print(f\"Can't download {post}, skipped\")\n",
    "        return {\"articles\": articles}"
   ]
  },
  {
   "cell_type": "code",
   "execution_count": 10,
   "id": "b9b4eec2-35f8-47d2-bd11-3389e66a6549",
   "metadata": {
    "height": 81
   },
   "outputs": [
    {
     "name": "stdout",
     "output_type": "stream",
     "text": [
      "[Document(id=50049a3667bbba8df689d717af953a67ac60fe1487d6be2ec4d5c0b358af2be9, content: 'My 4U 71 TiB ZFS NAS built with twenty-four 4 TB drives is over 10 years old and still going strong....', meta: {'content_type': 'text/html', 'url': 'https://louwrentius.com/my-71-tib-zfs-nas-after-10-years-and-zero-drive-failures.html'}), Document(id=e25bce4ed98011809db91b5d8cc9c2f06dab24b57964a36d064dd5c61439bd50, content: 'A simple, lexically scoped Lisp interpreter that operates fully in Rust's declarative macros. The li...', meta: {'content_type': 'text/html', 'url': 'https://github.com/RyanWelly/lisp-in-rs-macros'}), Document(id=4c573656bc1401544c006477b293806ad2c06cb84766ff0cb28e92c72eff17b3, content: '\"You should go and check out the shell script in the repo because it's very nice. It has colored out...', meta: {'content_type': 'text/html', 'url': 'https://nochlin.com/blog/6-techniques-i-use-to-create-a-great-user-experience-for-shell-scripts'})]\n"
     ]
    }
   ],
   "source": [
    "fetcher = HackernewsNewestFetcher()\n",
    "results = fetcher.run(top_k=3)\n",
    "\n",
    "print(results['articles'])"
   ]
  },
  {
   "cell_type": "code",
   "execution_count": 11,
   "id": "6550e471-da4c-4526-9010-acb20841975f",
   "metadata": {
    "height": 199
   },
   "outputs": [],
   "source": [
    "prompt_template = \"\"\"  \n",
    "You will be provided a few of the top posts in HackerNews.  \n",
    "For each post, provide a brief summary if possible.\n",
    "  \n",
    "Posts:  \n",
    "{% for article in articles %}\n",
    "  Post:\\n\n",
    "  {{ article.content}}\n",
    "{% endfor %}  \n",
    "\"\"\""
   ]
  },
  {
   "cell_type": "code",
   "execution_count": 12,
   "id": "6d8a7332-252a-42f7-8f63-841e4e87bc2f",
   "metadata": {
    "height": 216
   },
   "outputs": [
    {
     "data": {
      "text/plain": [
       "<haystack.core.pipeline.pipeline.Pipeline object at 0x7f5c08dbd810>\n",
       "🚅 Components\n",
       "  - fetcher: HackernewsNewestFetcher\n",
       "  - prompt: PromptBuilder\n",
       "  - llm: OpenAIGenerator\n",
       "🛤️ Connections\n",
       "  - fetcher.articles -> prompt.articles (List[Document])\n",
       "  - prompt.prompt -> llm.prompt (str)"
      ]
     },
     "execution_count": 12,
     "metadata": {},
     "output_type": "execute_result"
    }
   ],
   "source": [
    "prompt_builder = PromptBuilder(template=prompt_template)\n",
    "fetcher = HackernewsNewestFetcher()\n",
    "llm = OpenAIGenerator()\n",
    "\n",
    "summarizer_pipeline = Pipeline()\n",
    "summarizer_pipeline.add_component(\"fetcher\", fetcher)\n",
    "summarizer_pipeline.add_component(\"prompt\", prompt_builder)\n",
    "summarizer_pipeline.add_component(\"llm\", llm)\n",
    "\n",
    "summarizer_pipeline.connect(\"fetcher.articles\", \"prompt.articles\")\n",
    "summarizer_pipeline.connect(\"prompt\", \"llm\")"
   ]
  },
  {
   "cell_type": "code",
   "execution_count": 13,
   "id": "75d00c67-37c1-47d7-8a93-f23c6f962218",
   "metadata": {
    "height": 30
   },
   "outputs": [
    {
     "data": {
      "image/png": "[encoded data removed]",
      "text/plain": [
       "<IPython.core.display.Image object>"
      ]
     },
     "metadata": {},
     "output_type": "display_data"
    }
   ],
   "source": [
    "summarizer_pipeline.show()"
   ]
  },
  {
   "cell_type": "code",
   "execution_count": 15,
   "id": "69ea7955-1ce9-4ce7-8c1c-d8f0289b52e6",
   "metadata": {
    "height": 51
   },
   "outputs": [
    {
     "name": "stdout",
     "output_type": "stream",
     "text": [
      "Post 1 Summary:\n",
      "The post discusses the longevity and reliability of a ZFS NAS built with twenty-four 4 TB drives that has been operational for over 10 years without any drive failures. The author shares insights on drive longevity, the benefits of turning off the NAS when not in use, the importance of using ZFS, and the strategies employed to keep the system cool and quiet. Additionally, the post touches on topics like data corruption risks, power supply issues, network configurations, and backup strategies. The author also shares future storage plans and acknowledges the potential end of their storage hobby.\n",
      "\n",
      "Post 2 Summary:\n",
      "The post highlights a simple Lisp interpreter written using Rust's declarative macros. The interpreter operates fully within Rust's macros, providing compile-time evaluation of Lisp code. The author showcases examples of evaluating Lisp expressions, including a quine, and discusses the limitations of explicit recursion in the current implementation. The post also references related resources and provides insights into the development process of the Lisp interpreter.\n",
      "\n",
      "Post 3 Summary:\n",
      "The post discusses a shell script created for Gunnar Morling's One Billion Row Challenge, praised for its safety, functionality, and visual appeal. The author shares six techniques used to make the shell script robust and user-friendly, including error handling, colorful output, detailed progress reporting, strategic error handling, platform-specific adaptations, and timestamped file outputs. The post provides code snippets and explanations for each technique, showcasing best practices for creating efficient and effective shell scripts.\n"
     ]
    }
   ],
   "source": [
    "summaries = summarizer_pipeline.run({\"fetcher\": {\"top_k\": 3}})\n",
    "print(summaries[\"llm\"][\"replies\"][0])"
   ]
  },
  {
   "cell_type": "code",
   "execution_count": 16,
   "id": "b6d0a5e8-382f-484d-9834-facf87daf9fd",
   "metadata": {
    "height": 403
   },
   "outputs": [
    {
     "data": {
      "text/plain": [
       "<haystack.core.pipeline.pipeline.Pipeline object at 0x7f5c08e56390>\n",
       "🚅 Components\n",
       "  - fetcher: HackernewsNewestFetcher\n",
       "  - prompt: PromptBuilder\n",
       "  - llm: OpenAIGenerator\n",
       "🛤️ Connections\n",
       "  - fetcher.articles -> prompt.articles (List[Document])\n",
       "  - prompt.prompt -> llm.prompt (str)"
      ]
     },
     "execution_count": 16,
     "metadata": {},
     "output_type": "execute_result"
    }
   ],
   "source": [
    "prompt_template = \"\"\"  \n",
    "You will be provided a few of the top posts in HackerNews, followed by their URL.  \n",
    "For each post, provide a brief summary followed by the URL the full post can be found at.  \n",
    "  \n",
    "Posts:  \n",
    "{% for article in articles %}  \n",
    "  {{ article.content }}\n",
    "  URL: {{ article.meta[\"url\"] }}\n",
    "{% endfor %}  \n",
    "\"\"\"\n",
    "\n",
    "prompt_builder = PromptBuilder(template=prompt_template)\n",
    "fetcher = HackernewsNewestFetcher()\n",
    "llm = OpenAIGenerator()\n",
    "\n",
    "summarizer_pipeline = Pipeline()\n",
    "summarizer_pipeline.add_component(\"fetcher\", fetcher)\n",
    "summarizer_pipeline.add_component(\"prompt\", prompt_builder)\n",
    "summarizer_pipeline.add_component(\"llm\", llm)\n",
    "\n",
    "summarizer_pipeline.connect(\"fetcher.articles\", \"prompt.articles\")\n",
    "summarizer_pipeline.connect(\"prompt\", \"llm\")"
   ]
  },
  {
   "cell_type": "code",
   "execution_count": 21,
   "id": "d4c71d92-aff4-4118-be3d-4cd0de4039cf",
   "metadata": {
    "height": 74
   },
   "outputs": [
    {
     "name": "stdout",
     "output_type": "stream",
     "text": [
      "1. My 4U 71 TiB ZFS NAS built with twenty-four 4 TB drives is over 10 years old and still hasn't experienced a single drive failure. The owner shares their secret of drive longevity, energy-saving strategies, ZFS usage, and custom fan control. They also discuss future storage plans and the story behind their NAS build.  \n",
      "URL: https://louwrentius.com/my-71-tib-zfs-nas-after-10-years-and-zero-drive-failures.html\n",
      "\n",
      "2. A Lisp interpreter written fully in Rust's declarative macros, operating at compile time by rustc expanding macros. The post highlights the simplicity of the interpreter, providing code examples and a quine. It references resources for further learning about Lisp and functional programming.  \n",
      "URL: https://github.com/RyanWelly/lisp-in-rs-macros\n",
      "\n",
      "3. Techniques for creating a great user experience for shell scripts are discussed, focusing on clear error handling, colorful output, detailed progress reporting, strategic error handling, platform-specific adaptations, and timestamped file outputs for multiple runs.  \n",
      "URL: https://nochlin.com/blog/6-techniques-i-use-to-create-a-great-user-experience-for-shell-scripts\n",
      "\n",
      "4. The challenges of porting the Common Lisp runtime to work on the Nintendo Switch are outlined, discussing the current status, building SBCL for the Switch, challenges with the garbage collector and callbacks, and future work to address these issues.  \n",
      "URL: https://reader.tymoon.eu/article/437\n",
      "\n",
      "5. Doctor Web discovered the Android.Vo1d trojan affecting TV boxes, detailing the files modified by the trojan, its components, and functionality. The post includes distribution data, infection vectors, and detection information.  \n",
      "URL: https://news.drweb.com/show/?i=14900\n",
      "\n",
      "6. The iPhone 16 Pro can capture ProRAW photos in the JPEG-XL format, offering smaller file sizes without quality compromise. Additional camera features of the new iPhone models are highlighted, along with storage requirements for JPEG-XL ProRAW images.  \n",
      "URL: https://9to5mac.com/2024/09/13/iphone-16-pro-lets-users-capture-proraw-photos-in-jpeg-xl-format/\n"
     ]
    }
   ],
   "source": [
    "summaries = summarizer_pipeline.run({\"fetcher\": {\"top_k\": 6}})\n",
    "print(summaries[\"llm\"][\"replies\"][0])"
   ]
  },
  {
   "cell_type": "code",
   "execution_count": 22,
   "id": "76ce245c-2ce5-441b-8979-9b376cc46c58",
   "metadata": {
    "height": 87
   },
   "outputs": [
    {
     "name": "stdout",
     "output_type": "stream",
     "text": [
      "[Document(id=50049a3667bbba8df689d717af953a67ac60fe1487d6be2ec4d5c0b358af2be9, content: 'My 4U 71 TiB ZFS NAS built with twenty-four 4 TB drives is over 10 years old and still going strong....', meta: {'content_type': 'text/html', 'url': 'https://louwrentius.com/my-71-tib-zfs-nas-after-10-years-and-zero-drive-failures.html'}), Document(id=e25bce4ed98011809db91b5d8cc9c2f06dab24b57964a36d064dd5c61439bd50, content: 'A simple, lexically scoped Lisp interpreter that operates fully in Rust's declarative macros. The li...', meta: {'content_type': 'text/html', 'url': 'https://github.com/RyanWelly/lisp-in-rs-macros'}), Document(id=4c573656bc1401544c006477b293806ad2c06cb84766ff0cb28e92c72eff17b3, content: '\"You should go and check out the shell script in the repo because it's very nice. It has colored out...', meta: {'content_type': 'text/html', 'url': 'https://nochlin.com/blog/6-techniques-i-use-to-create-a-great-user-experience-for-shell-scripts'})]\n"
     ]
    }
   ],
   "source": [
    "fetcher = HackernewsNewestFetcher()\n",
    "results = fetcher.run(top_k=3)\n",
    "\n",
    "print(results['articles'])"
   ]
  },
  {
   "cell_type": "code",
   "execution_count": null,
   "id": "5f3890ff",
   "metadata": {
    "height": 30
   },
   "outputs": [],
   "source": []
  }
 ],
 "metadata": {
  "kernelspec": {
   "display_name": "Python 3 (ipykernel)",
   "language": "python",
   "name": "python3"
  },
  "language_info": {
   "codemirror_mode": {
    "name": "ipython",
    "version": 3
   },
   "file_extension": ".py",
   "mimetype": "text/x-python",
   "name": "python",
   "nbconvert_exporter": "python",
   "pygments_lexer": "ipython3",
   "version": "3.11.9"
  }
 },
 "nbformat": 4,
 "nbformat_minor": 5
}
